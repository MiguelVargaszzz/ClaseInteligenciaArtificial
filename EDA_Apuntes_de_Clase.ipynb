{
  "nbformat": 4,
  "nbformat_minor": 0,
  "metadata": {
    "colab": {
      "provenance": [],
      "authorship_tag": "ABX9TyP6kqSnhkYfpaMbSLYu56hJ",
      "include_colab_link": true
    },
    "kernelspec": {
      "name": "python3",
      "display_name": "Python 3"
    },
    "language_info": {
      "name": "python"
    }
  },
  "cells": [
    {
      "cell_type": "markdown",
      "metadata": {
        "id": "view-in-github",
        "colab_type": "text"
      },
      "source": [
        "<a href=\"https://colab.research.google.com/github/MiguelVargaszzz/ClaseInteligenciaArtificial/blob/main/EDA_Apuntes_de_Clase.ipynb\" target=\"_parent\"><img src=\"https://colab.research.google.com/assets/colab-badge.svg\" alt=\"Open In Colab\"/></a>"
      ]
    },
    {
      "cell_type": "code",
      "execution_count": null,
      "metadata": {
        "id": "WH3xIAqWDCkY"
      },
      "outputs": [],
      "source": [
        "import pandas as pd\n",
        "import numpy as np\n",
        "\n",
        "# Crear un dataset simulado\n",
        "np.random.seed(42)\n",
        "data = {\n",
        "    \"Estudiante\": [f\"Estudiante{i}\" for i in range(1, 21)],\n",
        "    \"Edad\": np.random.randint(18, 25, size=21),\n",
        "    \"Genero\": np.random.choice([\"Masculino\", \"Femenino\"], size=20),\n",
        "    \"Nota_matematicas\": np.random.normal(70, 10, size=20).round(1),\n",
        "    \"Nota_Ciencias\": np.random.normal(75, 12, size=20).round(1),\n",
        "    \"Nota_Ingles\": np.random.normal(65, 15, size=20).round(1),\n",
        "}\n",
        "\n",
        "df = pd.DataFrame(data)\n",
        "\n"
      ]
    },
    {
      "cell_type": "markdown",
      "source": [
        "#Ejercicios con numpy\n",
        "**Crear el arreglo**\n",
        "\n",
        "*cursiva*\n",
        "## subtitulo\n",
        "\n",
        "$a=\\frac{5^n}{x^{2+i}}$\n",
        "\n",
        "![imagen](https://images7.memedroid.com/images/UPLOADED896/65454f4d1c061.jpeg)\n",
        "\n",
        "$A=x^{(t)}$\n",
        "\n",
        "Pandas para cuando son arreglos de datos que tienen diferentes tipos\n",
        "cuando son del mismo tipo numpy\n"
      ],
      "metadata": {
        "id": "JtSGFX_MECex"
      }
    },
    {
      "cell_type": "code",
      "source": [
        "# prompt: crear un arreglo con la variable datos, con datos sintetico, usando numpy donde la columna 0, sea la edad y la columna 1 sea la notas de IA que van de 0 a 5\n",
        "\n",
        "import numpy as np\n",
        "\n",
        "# Crear un arreglo con datos sintéticos usando NumPy\n",
        "num_estudiantes = 20\n",
        "edades = np.random.randint(18, 25, size=num_estudiantes)\n",
        "notas_ia = np.random.uniform(0, 5, size=num_estudiantes).round(2)  # Notas de IA entre 0 y 5\n",
        "\n",
        "datos = np.column_stack((edades, notas_ia))\n",
        "\n",
        "datos\n"
      ],
      "metadata": {
        "colab": {
          "base_uri": "https://localhost:8080/"
        },
        "id": "X_PswBP1FDCB",
        "outputId": "5a71ba55-b5bb-40d5-8936-bd339d676793"
      },
      "execution_count": 1,
      "outputs": [
        {
          "output_type": "execute_result",
          "data": {
            "text/plain": [
              "array([[22.  ,  3.17],\n",
              "       [24.  ,  0.12],\n",
              "       [19.  ,  3.53],\n",
              "       [21.  ,  4.82],\n",
              "       [20.  ,  1.22],\n",
              "       [24.  ,  3.5 ],\n",
              "       [18.  ,  4.13],\n",
              "       [24.  ,  0.14],\n",
              "       [23.  ,  0.47],\n",
              "       [22.  ,  3.86],\n",
              "       [19.  ,  0.45],\n",
              "       [21.  ,  4.53],\n",
              "       [22.  ,  1.98],\n",
              "       [20.  ,  1.77],\n",
              "       [22.  ,  4.65],\n",
              "       [21.  ,  3.29],\n",
              "       [19.  ,  3.69],\n",
              "       [21.  ,  4.68],\n",
              "       [24.  ,  1.12],\n",
              "       [23.  ,  0.73]])"
            ]
          },
          "metadata": {},
          "execution_count": 1
        }
      ]
    },
    {
      "cell_type": "code",
      "source": [
        "# Calcular el promedio de la columna 'Edad' (columna 0 en el array 'datos')\n",
        "promedio_edades = np.mean(datos[:, 1])\n",
        "print(f\"El promedio de edades es: {promedio_edades}\")\n"
      ],
      "metadata": {
        "colab": {
          "base_uri": "https://localhost:8080/"
        },
        "id": "uk6IEx-cGcHn",
        "outputId": "0c47aae1-d5cc-41fa-8b8c-b69a52738f4e"
      },
      "execution_count": 4,
      "outputs": [
        {
          "output_type": "stream",
          "name": "stdout",
          "text": [
            "El promedio de edades es: 2.5925\n"
          ]
        }
      ]
    },
    {
      "cell_type": "code",
      "source": [
        "type(datos)"
      ],
      "metadata": {
        "colab": {
          "base_uri": "https://localhost:8080/"
        },
        "id": "v9fmfrT7G8Vm",
        "outputId": "b35aa4fb-c032-4a26-942c-7ab1990a81fb"
      },
      "execution_count": 5,
      "outputs": [
        {
          "output_type": "execute_result",
          "data": {
            "text/plain": [
              "numpy.ndarray"
            ]
          },
          "metadata": {},
          "execution_count": 5
        }
      ]
    },
    {
      "cell_type": "code",
      "source": [
        "datos[0:5,0]"
      ],
      "metadata": {
        "colab": {
          "base_uri": "https://localhost:8080/"
        },
        "id": "FJKNnTa3HHE-",
        "outputId": "b7660cae-4193-4d49-aac2-d2dc491cd8f3"
      },
      "execution_count": 7,
      "outputs": [
        {
          "output_type": "execute_result",
          "data": {
            "text/plain": [
              "array([22., 24., 19., 21., 20.])"
            ]
          },
          "metadata": {},
          "execution_count": 7
        }
      ]
    }
  ]
}